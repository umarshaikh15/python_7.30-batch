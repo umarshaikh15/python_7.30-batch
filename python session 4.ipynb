{
 "cells": [
  {
   "cell_type": "code",
   "execution_count": 1,
   "id": "f7e7e62b-446a-4db4-8fc3-a82f9f3cabef",
   "metadata": {},
   "outputs": [
    {
     "name": "stdout",
     "output_type": "stream",
     "text": [
      "10 10.5 Naresh IT True\n"
     ]
    }
   ],
   "source": [
    "print(10,10.5,'Naresh IT',True)"
   ]
  },
  {
   "cell_type": "code",
   "execution_count": 2,
   "id": "a61f53e3-ee2d-419f-9935-70b985f95e1b",
   "metadata": {},
   "outputs": [
    {
     "name": "stdout",
     "output_type": "stream",
     "text": [
      "the addition of 10 and 20 is 30\n",
      "the addition of 100 and 200 is 300\n"
     ]
    }
   ],
   "source": [
    "a=100\n",
    "b=200\n",
    "c=a+b\n",
    "# the addition of 10 and 20 is 30\n",
    "print(\"the addition of 10 and 20 is 30\")\n",
    "print(\"the addition of\", a,\"and\",b,\"is\",c)"
   ]
  },
  {
   "cell_type": "code",
   "execution_count": 6,
   "id": "d991c403-f31a-45d0-8aab-ef9609f66b3a",
   "metadata": {},
   "outputs": [
    {
     "name": "stdout",
     "output_type": "stream",
     "text": [
      "the addition of 100 and 200 is 300\n"
     ]
    }
   ],
   "source": [
    "a=100\n",
    "b=200\n",
    "c=a+b\n",
    "print(\"the addition of {} and {} is {}\".format(a,b,c))"
   ]
  },
  {
   "cell_type": "code",
   "execution_count": 7,
   "id": "115c4001-380a-4484-bd49-a6f2f826d82e",
   "metadata": {},
   "outputs": [
    {
     "name": "stdout",
     "output_type": "stream",
     "text": [
      "my name is hyd,im 10 years old and Im from python\n"
     ]
    }
   ],
   "source": [
    "# read your name\n",
    "# read your age\n",
    "# read your city\n",
    "# My name is python, Im 10 years old Im from hyderabad\n",
    "name='python'\n",
    "age=10\n",
    "city='hyd'\n",
    "print(\"my name is {},im {} years old and Im from {}\".format(city,age,name))"
   ]
  },
  {
   "cell_type": "code",
   "execution_count": 10,
   "id": "a3bc5597-a5ca-4e6c-971c-c2ac422a50c7",
   "metadata": {},
   "outputs": [
    {
     "name": "stdout",
     "output_type": "stream",
     "text": [
      "my name is umar, I want to become DS in Google Company\n"
     ]
    }
   ],
   "source": [
    "name='umar'\n",
    "role='DS'\n",
    "company='Google'\n",
    "print(f\"my name is {name}, I want to become {role} in {company} Company\")"
   ]
  },
  {
   "cell_type": "code",
   "execution_count": 9,
   "id": "710ae115-6c19-451d-b74c-653b415b66a4",
   "metadata": {},
   "outputs": [
    {
     "name": "stdout",
     "output_type": "stream",
     "text": [
      "the avergae of 100 and 200 is: 150.0\n",
      "the avergae of 100 and 200 is: 150.0\n"
     ]
    }
   ],
   "source": [
    "num1=100\n",
    "num2=200\n",
    "average=(num1+num2)/2\n",
    "# the avergae of 100 and 200 is: 150\n",
    "print(\"the avergae of {} and {} is: {}\".format(num1,num2,average))\n",
    "print(f\"the avergae of {num1} and {num2} is: {average}\")"
   ]
  },
  {
   "cell_type": "code",
   "execution_count": 11,
   "id": "d04451a7-f74b-441e-ad02-b2f814b4a783",
   "metadata": {},
   "outputs": [
    {
     "name": "stdout",
     "output_type": "stream",
     "text": [
      "The area of circle is:314.0\n",
      "The area of circle is:314.0\n"
     ]
    }
   ],
   "source": [
    "radius=10\n",
    "pi_value=3.14\n",
    "area=pi_value*radius*radius\n",
    "print(\"The area of circle is:{}\".format(area))\n",
    "print(f\"The area of circle is:{area}\")"
   ]
  },
  {
   "cell_type": "code",
   "execution_count": 12,
   "id": "7c630540-1191-4b59-9e01-af6fd1e42c00",
   "metadata": {},
   "outputs": [
    {
     "name": "stdout",
     "output_type": "stream",
     "text": [
      "the total bill is: 1100.0\n"
     ]
    }
   ],
   "source": [
    "bill_amount=1000\n",
    "tip_percentage=10 # M-1\n",
    "tip_amount=bill_amount*tip_percentage/100\n",
    "total_bill=bill_amount+tip_amount\n",
    "print(f\"the total bill is: {total_bill}\")"
   ]
  },
  {
   "cell_type": "code",
   "execution_count": 13,
   "id": "1ead052a-b860-444c-b143-e59394e00604",
   "metadata": {},
   "outputs": [
    {
     "name": "stdout",
     "output_type": "stream",
     "text": [
      "10 20\n"
     ]
    }
   ],
   "source": [
    "print(10,end=' ')\n",
    "print(20)"
   ]
  },
  {
   "cell_type": "code",
   "execution_count": 15,
   "id": "5521c753-6847-4af6-8f69-bf7d27f667c6",
   "metadata": {},
   "outputs": [
    {
     "name": "stdout",
     "output_type": "stream",
     "text": [
      "10,20 & 30\n"
     ]
    }
   ],
   "source": [
    "print(10,end=',')\n",
    "print(20,end=' & ')\n",
    "print(30)"
   ]
  },
  {
   "cell_type": "code",
   "execution_count": 17,
   "id": "19076a6c-e786-42bc-a9ea-c40808394949",
   "metadata": {},
   "outputs": [
    {
     "name": "stdout",
     "output_type": "stream",
     "text": [
      "10 & 20 & 30\n"
     ]
    }
   ],
   "source": [
    "print(10,20,30,sep=' & ')"
   ]
  },
  {
   "cell_type": "code",
   "execution_count": 18,
   "id": "9b56fd6c-56ff-4978-b829-cdca4fb9be94",
   "metadata": {},
   "outputs": [
    {
     "name": "stdout",
     "output_type": "stream",
     "text": [
      "10--->20--->30\n"
     ]
    }
   ],
   "source": [
    "print(10,20,30,sep='--->')"
   ]
  },
  {
   "cell_type": "code",
   "execution_count": 19,
   "id": "598217e2-804c-4351-bc1a-604c9b1aaa4a",
   "metadata": {},
   "outputs": [
    {
     "name": "stdout",
     "output_type": "stream",
     "text": [
      "the addition of 5 and 3 is 8.\n"
     ]
    }
   ],
   "source": [
    "print(f\"the addition of {5} and {3} is {5+3}.\")"
   ]
  },
  {
   "cell_type": "code",
   "execution_count": 20,
   "id": "884f85a9-08d6-496e-9412-6676449979e5",
   "metadata": {},
   "outputs": [
    {
     "name": "stdout",
     "output_type": "stream",
     "text": [
      "the addition of 5 and 3 is 8.\n"
     ]
    }
   ],
   "source": [
    "print(\"the addition of {} and {} is {}.\".format(5,3,5+3))"
   ]
  },
  {
   "cell_type": "code",
   "execution_count": 21,
   "id": "56b97384-e52b-465c-824e-21bee8bccaf9",
   "metadata": {},
   "outputs": [
    {
     "name": "stdout",
     "output_type": "stream",
     "text": [
      "the addition of 5 and 3 is 8-->.\n"
     ]
    }
   ],
   "source": [
    "print('the addition of 5 and 3 is 8','.',sep='')"
   ]
  },
  {
   "cell_type": "code",
   "execution_count": null,
   "id": "744c673c-8879-4d9b-b662-55282b30b06d",
   "metadata": {},
   "outputs": [],
   "source": []
  }
 ],
 "metadata": {
  "kernelspec": {
   "display_name": "Python 3 (ipykernel)",
   "language": "python",
   "name": "python3"
  },
  "language_info": {
   "codemirror_mode": {
    "name": "ipython",
    "version": 3
   },
   "file_extension": ".py",
   "mimetype": "text/x-python",
   "name": "python",
   "nbconvert_exporter": "python",
   "pygments_lexer": "ipython3",
   "version": "3.11.7"
  }
 },
 "nbformat": 4,
 "nbformat_minor": 5
}
