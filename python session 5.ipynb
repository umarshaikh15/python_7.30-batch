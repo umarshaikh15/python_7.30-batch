{
 "cells": [
  {
   "cell_type": "code",
   "execution_count": 8,
   "id": "44ce5303-4d6b-4261-96b9-2e9fc68fa398",
   "metadata": {},
   "outputs": [
    {
     "name": "stdout",
     "output_type": "stream",
     "text": [
      "the average of 100 and 200 is :150.0\n"
     ]
    }
   ],
   "source": [
    "num1=100\n",
    "num2=200\n",
    "average=(num1+num2)/2\n",
    "print(\"the average of {} and {} is :{}\".format(num1,num2,average))"
   ]
  },
  {
   "cell_type": "code",
   "execution_count": 1,
   "id": "902159e6-f67f-40ee-a524-f5732dafa367",
   "metadata": {},
   "outputs": [
    {
     "name": "stdin",
     "output_type": "stream",
     "text": [
      " 12\n"
     ]
    },
    {
     "data": {
      "text/plain": [
       "'12'"
      ]
     },
     "execution_count": 1,
     "metadata": {},
     "output_type": "execute_result"
    }
   ],
   "source": [
    "input()"
   ]
  },
  {
   "cell_type": "code",
   "execution_count": 2,
   "id": "fa17e1fc-5891-4a2d-8689-7d5a213b688a",
   "metadata": {},
   "outputs": [
    {
     "name": "stdin",
     "output_type": "stream",
     "text": [
      "enter the number 100\n"
     ]
    },
    {
     "data": {
      "text/plain": [
       "'100'"
      ]
     },
     "execution_count": 2,
     "metadata": {},
     "output_type": "execute_result"
    }
   ],
   "source": [
    "input(\"enter the number\")"
   ]
  },
  {
   "cell_type": "code",
   "execution_count": 4,
   "id": "63afed98-153d-4f46-8ce1-c6b5714a813d",
   "metadata": {},
   "outputs": [
    {
     "name": "stdout",
     "output_type": "stream",
     "text": [
      "area of circle is 314.0\n",
      "area of circle is 314.0\n"
     ]
    }
   ],
   "source": [
    "area=10\n",
    "pi_value=3.14\n",
    "area=pi_value*area*area\n",
    "print(f\"area of circle is {area}\")\n",
    "print(\"area of circle is {}\".format(area))"
   ]
  },
  {
   "cell_type": "code",
   "execution_count": 5,
   "id": "8b3bf3f7-efb7-4296-a68f-06141d3f9183",
   "metadata": {},
   "outputs": [
    {
     "name": "stdout",
     "output_type": "stream",
     "text": [
      "area of traingle is :100.0\n"
     ]
    }
   ],
   "source": [
    "base=10\n",
    "heigh=20\n",
    "area=1/2*base*heigh\n",
    "print(f\"area of traingle is :{area}\")"
   ]
  },
  {
   "cell_type": "code",
   "execution_count": 8,
   "id": "e751e5b1-3125-4030-8846-9509c8b9c9d3",
   "metadata": {},
   "outputs": [
    {
     "name": "stdout",
     "output_type": "stream",
     "text": [
      "the total bill is :1100.0\n"
     ]
    }
   ],
   "source": [
    "bill_amount=1000\n",
    "tip_perent=10\n",
    "tip_amount=bill_amount*tip_perent/100\n",
    "total_amount=bill_amount+tip_amount\n",
    "print(f\"the total bill is :{total_amount}\")"
   ]
  },
  {
   "cell_type": "code",
   "execution_count": 11,
   "id": "2aed11ed-530b-4dc5-b910-b06eb0e724ed",
   "metadata": {},
   "outputs": [
    {
     "name": "stdout",
     "output_type": "stream",
     "text": [
      "10 20 30\n"
     ]
    }
   ],
   "source": [
    "print(10,end=' ')\n",
    "print(20,end=' ')\n",
    "print(30)"
   ]
  },
  {
   "cell_type": "code",
   "execution_count": 14,
   "id": "d1db9c22-f072-4674-b588-76ae20a53dd5",
   "metadata": {},
   "outputs": [
    {
     "name": "stdout",
     "output_type": "stream",
     "text": [
      "100---500---600\n",
      "200\n",
      "300\n"
     ]
    }
   ],
   "source": [
    "print(100,500,600,sep='---')\n",
    "print(200)\n",
    "print(300)"
   ]
  },
  {
   "cell_type": "code",
   "execution_count": 15,
   "id": "60f7afe6-ff27-460b-a9e1-d6390467e250",
   "metadata": {},
   "outputs": [
    {
     "name": "stdout",
     "output_type": "stream",
     "text": [
      "the addition of 5 and 3 is 8\n"
     ]
    }
   ],
   "source": [
    "print(f\"the addition of {5} and {3} is {5+3}\")"
   ]
  },
  {
   "cell_type": "code",
   "execution_count": 17,
   "id": "4127a350-980e-4f6e-ab4b-be63aa5739ad",
   "metadata": {},
   "outputs": [
    {
     "name": "stdout",
     "output_type": "stream",
     "text": [
      "the addition of 5 and 3 is 8\n"
     ]
    }
   ],
   "source": [
    "print(\"the addition of {} and {} is {}\".format(5,3,5+3))"
   ]
  },
  {
   "cell_type": "code",
   "execution_count": 18,
   "id": "84c24f35-7c3a-4a94-8d4c-6e6169cd7c41",
   "metadata": {},
   "outputs": [
    {
     "name": "stdin",
     "output_type": "stream",
     "text": [
      " 12\n"
     ]
    },
    {
     "data": {
      "text/plain": [
       "'12'"
      ]
     },
     "execution_count": 18,
     "metadata": {},
     "output_type": "execute_result"
    }
   ],
   "source": [
    "input()"
   ]
  },
  {
   "cell_type": "code",
   "execution_count": 21,
   "id": "43784948-b876-4f90-9b29-ddf0396923a6",
   "metadata": {},
   "outputs": [
    {
     "name": "stdin",
     "output_type": "stream",
     "text": [
      " 100\n",
      " 200\n",
      " 300\n",
      "enetr number 500\n"
     ]
    },
    {
     "data": {
      "text/plain": [
       "'500'"
      ]
     },
     "execution_count": 21,
     "metadata": {},
     "output_type": "execute_result"
    }
   ],
   "source": [
    "input()\n",
    "input()\n",
    "input()\n",
    "input(\"enetr number\")\n"
   ]
  },
  {
   "cell_type": "code",
   "execution_count": 22,
   "id": "49150a9e-ef88-4b4e-941a-c8b29ead98ba",
   "metadata": {},
   "outputs": [
    {
     "name": "stdin",
     "output_type": "stream",
     "text": [
      "number is 100\n",
      "number is 200\n"
     ]
    }
   ],
   "source": [
    "num1=input(\"number is\")\n",
    "num2=input(\"number is\")"
   ]
  },
  {
   "cell_type": "code",
   "execution_count": 27,
   "id": "bdf5b98b-8487-400f-be31-6f60644a1ce7",
   "metadata": {},
   "outputs": [
    {
     "data": {
      "text/plain": [
       "300"
      ]
     },
     "execution_count": 27,
     "metadata": {},
     "output_type": "execute_result"
    }
   ],
   "source": [
    "int(num1)+int(num2)\n"
   ]
  },
  {
   "cell_type": "code",
   "execution_count": 24,
   "id": "ca7f465c-4ce3-41c7-bd26-10fd6fcaab37",
   "metadata": {},
   "outputs": [
    {
     "data": {
      "text/plain": [
       "'200'"
      ]
     },
     "execution_count": 24,
     "metadata": {},
     "output_type": "execute_result"
    }
   ],
   "source": [
    "num2"
   ]
  },
  {
   "cell_type": "code",
   "execution_count": 32,
   "id": "95b2e611-b81a-4820-aab8-6f1f7fb9ea63",
   "metadata": {},
   "outputs": [
    {
     "name": "stdin",
     "output_type": "stream",
     "text": [
      "number is 12.3\n",
      "number is 30\n"
     ]
    }
   ],
   "source": [
    "num1=eval(input(\"number is\"))\n",
    "num2=int(input(\"number is\"))"
   ]
  },
  {
   "cell_type": "code",
   "execution_count": 33,
   "id": "b2aee361-77da-4369-b138-7dc46bbed265",
   "metadata": {},
   "outputs": [
    {
     "data": {
      "text/plain": [
       "42.3"
      ]
     },
     "execution_count": 33,
     "metadata": {},
     "output_type": "execute_result"
    }
   ],
   "source": [
    "num1+num2"
   ]
  },
  {
   "cell_type": "code",
   "execution_count": null,
   "id": "75ee4eef-60f0-456a-809e-68ccd03fca0c",
   "metadata": {},
   "outputs": [],
   "source": []
  }
 ],
 "metadata": {
  "kernelspec": {
   "display_name": "Python 3 (ipykernel)",
   "language": "python",
   "name": "python3"
  },
  "language_info": {
   "codemirror_mode": {
    "name": "ipython",
    "version": 3
   },
   "file_extension": ".py",
   "mimetype": "text/x-python",
   "name": "python",
   "nbconvert_exporter": "python",
   "pygments_lexer": "ipython3",
   "version": "3.11.7"
  }
 },
 "nbformat": 4,
 "nbformat_minor": 5
}
